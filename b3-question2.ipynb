{
 "cells": [
  {
   "cell_type": "code",
   "execution_count": 1,
   "id": "4e5779c4-2417-49c1-a04a-400ae3526463",
   "metadata": {},
   "outputs": [],
   "source": [
    "def count_numbers(tup):\n",
    "    count = 0\n",
    "    for item in tup:\n",
    "        if type(item) == int or type(item) == float:\n",
    "            count += 1\n",
    "    return count\n",
    "\n",
    "def partition(lst, low, high):\n",
    "    pivot = count_numbers(lst[high])\n",
    "    i = low\n",
    "    for j in range(low, high):\n",
    "        if count_numbers(lst[j]) > pivot:  # Descending order\n",
    "            lst[i], lst[j] = lst[j], lst[i]\n",
    "            i += 1\n",
    "    lst[i], lst[high] = lst[high], lst[i]\n",
    "    return i\n",
    "\n",
    "def quicksort(lst, low, high):\n",
    "    if low < high:\n",
    "        pi = partition(lst, low, high)\n",
    "        quicksort(lst, low, pi - 1)\n",
    "        quicksort(lst, pi + 1, high)\n",
    "\n",
    "def sort_tuples(lst):\n",
    "    quicksort(lst, 0, len(lst) - 1)\n"
   ]
  },
  {
   "cell_type": "code",
   "execution_count": 3,
   "id": "1f056e62-97ef-4289-85c4-0f2703e61f2f",
   "metadata": {},
   "outputs": [
    {
     "name": "stdout",
     "output_type": "stream",
     "text": [
      "[(1, 1, 1, 1, 6), (2.4, 88, 2, 'bee:'), (1, 6.8), (1, 's', None)]\n"
     ]
    }
   ],
   "source": [
    "lst = [(2.4, 88, 2, \"bee:\"), (1, \"s\", None), (1, 1, 1, 1, 6), (1, 6.8)]\n",
    "sort_tuples(lst)\n",
    "print(lst)"
   ]
  },
  {
   "cell_type": "code",
   "execution_count": null,
   "id": "c1175fb7-d573-46f5-ae66-7dd2f3beb656",
   "metadata": {},
   "outputs": [],
   "source": []
  }
 ],
 "metadata": {
  "kernelspec": {
   "display_name": "Python 3 (ipykernel)",
   "language": "python",
   "name": "python3"
  },
  "language_info": {
   "codemirror_mode": {
    "name": "ipython",
    "version": 3
   },
   "file_extension": ".py",
   "mimetype": "text/x-python",
   "name": "python",
   "nbconvert_exporter": "python",
   "pygments_lexer": "ipython3",
   "version": "3.12.3"
  }
 },
 "nbformat": 4,
 "nbformat_minor": 5
}
